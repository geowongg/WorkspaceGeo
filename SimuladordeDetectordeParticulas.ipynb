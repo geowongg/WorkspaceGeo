{
  "nbformat": 4,
  "nbformat_minor": 0,
  "metadata": {
    "colab": {
      "name": "SimuladordeDetectordeParticulas.ipynb",
      "provenance": [],
      "collapsed_sections": [],
      "authorship_tag": "ABX9TyOfDXtrh4fcaiC3A0EiqmBV",
      "include_colab_link": true
    },
    "kernelspec": {
      "name": "python3",
      "display_name": "Python 3"
    },
    "language_info": {
      "name": "python"
    }
  },
  "cells": [
    {
      "cell_type": "markdown",
      "metadata": {
        "id": "view-in-github",
        "colab_type": "text"
      },
      "source": [
        "<a href=\"https://colab.research.google.com/github/geowongg/WorkspaceGeo/blob/main/SimuladordeDetectordeParticulas.ipynb\" target=\"_parent\"><img src=\"https://colab.research.google.com/assets/colab-badge.svg\" alt=\"Open In Colab\"/></a>"
      ]
    },
    {
      "cell_type": "code",
      "metadata": {
        "id": "djsEWGI8qQap"
      },
      "source": [
        "import random \n",
        "from matplotlib import pyplot\n",
        "import matplotlib.pyplot as plt \n",
        "import numpy as np"
      ],
      "execution_count": 1,
      "outputs": []
    },
    {
      "cell_type": "code",
      "metadata": {
        "colab": {
          "base_uri": "https://localhost:8080/",
          "height": 282
        },
        "id": "bUYOm63ku3p6",
        "outputId": "a279d302-fff1-4a73-bb17-b65042d76d4d"
      },
      "source": [
        "#programa que simula un detector de particulas \n",
        "\n",
        "#definir las funciones que generen a las particulas \n",
        "\n",
        "def cordenadaX():\n",
        "  deltaX= random.randint(0, 1000)\n",
        "  return deltaX/10.0\n",
        "\n",
        "def cordenadaY():\n",
        "  deltaY= random.randint(0, 1000)\n",
        "  return deltaY/10.0\n",
        "#funcion que nos dice si detectamos o no la particula(eficiencia del detector)\n",
        "def EficienciaFun():\n",
        "  roll= random.randint(1, 100)\n",
        "  if roll<=85:\n",
        "    return True\n",
        "  else:\n",
        "    return False\n",
        "\n",
        "numparticulas= 1000\n",
        "parts=0\n",
        "#crear mi vector de posicion(de particulas) \n",
        "coordenadaenX=[]\n",
        "coordenadaenY=[]\n",
        "#arreglo de los detectores \n",
        "detectorenX=[]\n",
        "detectorenY=[]\n",
        "detectadoX=[]\n",
        "detectadoY=[]\n",
        "NOdetectadoX=[]\n",
        "NOdetectadoY=[]\n",
        "\n",
        "#vamos a crear una lista para \"dibujar al detector \"\n",
        "detectorenX.append(40)\n",
        "detectorenY.append(40)\n",
        " \n",
        "detectorenX.append(60)\n",
        "detectorenY.append(40)\n",
        "\n",
        "detectorenX.append(60)\n",
        "detectorenY.append(60)\n",
        "\n",
        "detectorenX.append(40)\n",
        "detectorenY.append(60)\n",
        "\n",
        "detectorenX.append(40)\n",
        "detectorenY.append(40)\n",
        "\n",
        "while parts <numparticulas: \n",
        "  x = cordenadaX()\n",
        "  y = cordenadaY()\n",
        "  coordenadaenX.append(x)\n",
        "  coordenadaenY.append(y)\n",
        "  if (40< x < 60) and (40< y < 60): \n",
        "    if EficienciaFun():\n",
        "      detectadoX.append(x)\n",
        "      detectadoY.append(y)\n",
        "    else: \n",
        "      NOdetectadoX.append(x)\n",
        "      NOdetectadoY.append(y)\n",
        "\n",
        "  parts+=1\n",
        "\n",
        "plt.plot(coordenadaenX, coordenadaenY, 'bo')\n",
        "plt.plot(detectorenX, detectorenY, 'g')\n",
        "plt.plot(detectadoX, detectadoY, 'ro')\n",
        "plt.plot(NOdetectadoX, NOdetectadoY, 'yx')"
      ],
      "execution_count": 5,
      "outputs": [
        {
          "output_type": "execute_result",
          "data": {
            "text/plain": [
              "[<matplotlib.lines.Line2D at 0x7f28d8b5ac10>]"
            ]
          },
          "metadata": {},
          "execution_count": 5
        },
        {
          "output_type": "display_data",
          "data": {
            "image/png": "[encoded data removed]",
            "text/plain": [
              "<Figure size 432x288 with 1 Axes>"
            ]
          },
          "metadata": {
            "needs_background": "light"
          }
        }
      ]
    }
  ]
}