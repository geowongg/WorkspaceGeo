{
  "nbformat": 4,
  "nbformat_minor": 0,
  "metadata": {
    "colab": {
      "name": "métodoEulerTiroparabolico.ipynb",
      "provenance": []
    },
    "kernelspec": {
      "name": "python3",
      "display_name": "Python 3"
    },
    "language_info": {
      "name": "python"
    }
  },
  "cells": [
    {
      "cell_type": "code",
      "metadata": {
        "id": "7QtMEstISDVj"
      },
      "source": [
        "#Programa que usa el método de Euler para calcular la velocidad y posición \n",
        "#11/10/21\n",
        "import numpy as np\n",
        "import matplotlib.pyplot as plt"
      ],
      "execution_count": 2,
      "outputs": []
    },
    {
      "cell_type": "code",
      "metadata": {
        "colab": {
          "base_uri": "https://localhost:8080/"
        },
        "id": "1kaztmQCWEUt",
        "outputId": "72400ec6-5ade-4fce-ccaa-9437db4e74b0"
      },
      "source": [
        "#definir funciones con iteraciones\n",
        "def xf(i):\n",
        "  for i in range(int(t/h)):\n",
        "    xf = xn + (i)*h*vxn\n",
        "  return xf\n",
        "\n",
        "def yf(i):\n",
        "  for i in range(int(t/h)):\n",
        "    yf= yn + (i)*h*vyn + ((i*h)**2*g)/2\n",
        "  return yf\n",
        "\n",
        "def vxf(i):\n",
        "  for i in range(int(t/h)):\n",
        "    vxf= vxn + (i)*h*axn\n",
        "  return vxf\n",
        "\n",
        "def vyf(i):\n",
        "  for i in range(int(t/h)):\n",
        "    vyf= vyn + (i)*h*g\n",
        "  return vyf\n",
        "\n",
        "#Iniciar variables\n",
        "xn=2 \n",
        "yn=5 \n",
        "vxn=50 \n",
        "vyn=20\n",
        "axn=0\n",
        "g=-9.81 \n",
        "t=2 \n",
        "h=.00001\n",
        "\n",
        "#impresión de resultados\n",
        "print('La posición final en x es', xf(t/h), 'm')\n",
        "print('La posición final en y es', yf(t/h), 'm')\n",
        "print('La velocidad final en x es', vxf(t/h), 'm/s')\n",
        "print('La velocidad final en y es', vyf(t/h), 'm/s')\n",
        "\n"
      ],
      "execution_count": 1,
      "outputs": [
        {
          "output_type": "stream",
          "name": "stdout",
          "text": [
            "La posición final en x es 101.99900000000001 m\n",
            "La posición final en y es 25.379992398038 m\n",
            "La velocidad final en x es 50.0 m/s\n",
            "La velocidad final en y es 0.38019619999999676 m/s\n"
          ]
        }
      ]
    }
  ]
}