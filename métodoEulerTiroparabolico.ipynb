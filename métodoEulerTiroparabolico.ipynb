{
  "nbformat": 4,
  "nbformat_minor": 0,
  "metadata": {
    "colab": {
      "name": "métodoEulerTiroparabolico.ipynb",
      "provenance": []
    },
    "kernelspec": {
      "name": "python3",
      "display_name": "Python 3"
    },
    "language_info": {
      "name": "python"
    }
  },
  "cells": [
    {
      "cell_type": "code",
      "metadata": {
        "id": "7QtMEstISDVj"
      },
      "source": [
        "#Programa que usa el método de Euler para calcular la velocidad y posición \n",
        "#11/10/21\n",
        "import numpy as np\n",
        "import matplotlib.pyplot as plt"
      ],
      "execution_count": 3,
      "outputs": []
    },
    {
      "cell_type": "code",
      "metadata": {
        "colab": {
          "base_uri": "https://localhost:8080/"
        },
        "id": "1kaztmQCWEUt",
        "outputId": "be4a3f01-de85-49ca-9d71-4e8633129b0a"
      },
      "source": [
        "#definir funciones con iteraciones\n",
        "def posicion_x(i):\n",
        "  for i in range(int(t/h)):\n",
        "    posicion_x= xn + (i)*h*vxn\n",
        "  return posicion_x\n",
        "\n",
        "def posicion_y(i):\n",
        "  for i in range(int(t/h)):\n",
        "    posicion_y= yn + (i)*h*vyn + ((i*h)**2*g)/2\n",
        "  return posicion_y\n",
        "\n",
        "def velocidad_x(i):\n",
        "  for i in range(int(t/h)):\n",
        "    velocidad_x= vxn + (i)*h*axn\n",
        "  return velocidad_x\n",
        "\n",
        "def velocidad_y(i):\n",
        "  for i in range(int(t/h)):\n",
        "    velocidad_y= vyn + (i)*h*g\n",
        "  return velocidad_y\n",
        "\n",
        "#Iniciar variables\n",
        "xn=2 \n",
        "yn=5 \n",
        "vxn=50 \n",
        "vyn=20\n",
        "axn=0\n",
        "g=-9.81 \n",
        "t=2 \n",
        "h=.00001\n",
        "\n",
        "#impresión de resultados\n",
        "print('La posición final en x es', posicion_x(t/h), 'm')\n",
        "print('La posición final en y es', posicion_y(t/h), 'm')\n",
        "print('La velocidad final en x es', velocidad_x(t/h), 'm/s')\n",
        "print('La velocidad final en y es', velocidad_y(t/h), 'm/s')\n",
        "\n"
      ],
      "execution_count": 4,
      "outputs": [
        {
          "output_type": "stream",
          "name": "stdout",
          "text": [
            "La posición final en x es 101.99900000000001 m\n",
            "La posición final en y es 25.379992398038 m\n",
            "La velocidad final en x es 50.0 m/s\n",
            "La velocidad final en y es 0.38019619999999676 m/s\n"
          ]
        }
      ]
    }
  ]
}